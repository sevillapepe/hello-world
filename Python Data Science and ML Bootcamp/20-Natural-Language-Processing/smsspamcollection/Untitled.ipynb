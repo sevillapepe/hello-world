{
 "cells": [
  {
   "cell_type": "code",
   "execution_count": null,
   "metadata": {},
   "outputs": [],
   "source": []
  },
  {
   "cell_type": "code",
   "execution_count": 28,
   "metadata": {},
   "outputs": [],
   "source": [
    "from bs4 import BeautifulSoup\n",
    "from requests import get\n",
    "import pandas as pd\n",
    "import itertools\n",
    "import matplotlib.pyplot as plt\n",
    "import seaborn as sns\n",
    "sns.set()"
   ]
  },
  {
   "cell_type": "code",
   "execution_count": 29,
   "metadata": {},
   "outputs": [],
   "source": [
    "headers = ({'User-Agent':\n",
    "            'Mozilla/5.0 (Windows NT 6.1) AppleWebKit/537.36 (KHTML, like Gecko) Chrome/41.0.2228.0 Safari/537.36'})"
   ]
  },
  {
   "cell_type": "code",
   "execution_count": 30,
   "metadata": {},
   "outputs": [],
   "source": [
    "idealista_chipiona = \"https://www.fotocasa.es/en/buy/homes/chipiona/all-zones/l?latitude=36.7392&longitude=-6.44079&minPrice=100000&combinedLocationIds=724,1,11,279,496,11016,0,0,0&gridType=3\"\n",
    "response = get(idealista_chipiona, headers=headers)"
   ]
  },
  {
   "cell_type": "code",
   "execution_count": 44,
   "metadata": {},
   "outputs": [
    {
     "name": "stdout",
     "output_type": "stream",
     "text": [
      "<Response [200]>\n"
     ]
    }
   ],
   "source": [
    "print(response)"
   ]
  },
  {
   "cell_type": "code",
   "execution_count": 48,
   "metadata": {},
   "outputs": [],
   "source": [
    "    fotocasa_url = 'https://www.fotocasa.es/en/buy/homes/chipiona/all-zones/l?latitude=36.7392&longitude=-6.44079&minPrice=100000&combinedLocationIds=724,1,11,279,496,11016,0,0,0&gridType=3'+'&pn='+str(page)\n",
    "    r = get(fotocasa_url, headers=headers)\n",
    "    page_html = BeautifulSoup(r.text, 'html.parser')\n",
    "    house_containers = page_html.find_all('div', class_=\"re-searchResult-itemRow\")"
   ]
  },
  {
   "cell_type": "code",
   "execution_count": 49,
   "metadata": {},
   "outputs": [],
   "source": [
    "html_soup = BeautifulSoup(response.text, 'html.parser')"
   ]
  },
  {
   "cell_type": "code",
   "execution_count": 51,
   "metadata": {},
   "outputs": [
    {
     "ename": "IndexError",
     "evalue": "list index out of range",
     "output_type": "error",
     "traceback": [
      "\u001b[1;31m---------------------------------------------------------------------------\u001b[0m",
      "\u001b[1;31mIndexError\u001b[0m                                Traceback (most recent call last)",
      "\u001b[1;32m<ipython-input-51-a97fde7eb51e>\u001b[0m in \u001b[0;36m<module>\u001b[1;34m\u001b[0m\n\u001b[1;32m----> 1\u001b[1;33m \u001b[0mfirst\u001b[0m \u001b[1;33m=\u001b[0m \u001b[0mhouse_containers\u001b[0m\u001b[1;33m[\u001b[0m\u001b[1;36m0\u001b[0m\u001b[1;33m]\u001b[0m\u001b[1;33m\u001b[0m\u001b[1;33m\u001b[0m\u001b[0m\n\u001b[0m\u001b[0;32m      2\u001b[0m \u001b[1;31m#first.find_all('span')\u001b[0m\u001b[1;33m\u001b[0m\u001b[1;33m\u001b[0m\u001b[1;33m\u001b[0m\u001b[0m\n",
      "\u001b[1;31mIndexError\u001b[0m: list index out of range"
     ]
    }
   ],
   "source": [
    "first = house_containers[0]\n",
    "#first.find_all('span')"
   ]
  },
  {
   "cell_type": "code",
   "execution_count": null,
   "metadata": {},
   "outputs": [],
   "source": []
  },
  {
   "cell_type": "code",
   "execution_count": null,
   "metadata": {},
   "outputs": [],
   "source": []
  },
  {
   "cell_type": "code",
   "execution_count": null,
   "metadata": {},
   "outputs": [],
   "source": []
  },
  {
   "cell_type": "code",
   "execution_count": null,
   "metadata": {},
   "outputs": [],
   "source": []
  },
  {
   "cell_type": "code",
   "execution_count": 33,
   "metadata": {},
   "outputs": [],
   "source": [
    "titles = []\n",
    "#created = []\n",
    "prices = []\n",
    "areas = []\n",
    "zone = []\n",
    "condition = []\n",
    "descriptions = []\n",
    "urls = []\n",
    "thumbnails = []"
   ]
  },
  {
   "cell_type": "code",
   "execution_count": null,
   "metadata": {},
   "outputs": [],
   "source": []
  },
  {
   "cell_type": "code",
   "execution_count": null,
   "metadata": {},
   "outputs": [],
   "source": []
  },
  {
   "cell_type": "code",
   "execution_count": null,
   "metadata": {},
   "outputs": [],
   "source": []
  },
  {
   "cell_type": "code",
   "execution_count": null,
   "metadata": {},
   "outputs": [],
   "source": []
  },
  {
   "cell_type": "code",
   "execution_count": null,
   "metadata": {},
   "outputs": [],
   "source": []
  },
  {
   "cell_type": "code",
   "execution_count": null,
   "metadata": {},
   "outputs": [],
   "source": []
  },
  {
   "cell_type": "code",
   "execution_count": 36,
   "metadata": {},
   "outputs": [
    {
     "name": "stdout",
     "output_type": "stream",
     "text": [
      "You scraped 1 pages containing 0 properties.\n"
     ]
    }
   ],
   "source": [
    "\n",
    "\n",
    "n_pages = 0\n",
    "\n",
    "for page in range(0,10):\n",
    "    n_pages += 1\n",
    "    fotocasa_url = 'https://www.fotocasa.es/en/buy/homes/chipiona/all-zones/l?latitude=36.7392&longitude=-6.44079&minPrice=100000&combinedLocationIds=724,1,11,279,496,11016,0,0,0&gridType=3'+'&pn='+str(page)\n",
    "    r = get(fotocasa_url, headers=headers)\n",
    "    page_html = BeautifulSoup(r.text, 'html.parser')\n",
    "    house_containers = page_html.find_all('div', class_=\"searchResultProperty\")\n",
    "    if house_containers != []:\n",
    "        for container in house_containers:\n",
    "            \n",
    "            # Price            \n",
    "            price = container.find_all('span')[2].text\n",
    "            if price == 'Contacte Anunciante':\n",
    "                price = container.find_all('span')[3].text\n",
    "                if price.find('/') != -1:\n",
    "                    price = price[0:price.find('/')-1]\n",
    "            if price.find('/') != -1:\n",
    "                price = price[0:price.find('/')-1]\n",
    "            \n",
    "            price_ = [int(price[s]) for s in range(0,len(price)) if price[s].isdigit()]\n",
    "            price = ''\n",
    "            for x in price_:\n",
    "                price = price+str(x)\n",
    "            prices.append(int(price))\n",
    "\n",
    "            # Zone\n",
    "            location = container.find_all('p', class_=\"searchPropertyLocation\")[0].text\n",
    "            location = location[7:location.find(',')]\n",
    "            zone.append(location)\n",
    "\n",
    "            # Title\n",
    "            name = container.find_all('span')[0].text\n",
    "            titles.append(name)\n",
    "\n",
    "            # Status\n",
    "            status = container.find_all('p')[5].text\n",
    "            condition.append(status)\n",
    "\n",
    "            # Area\n",
    "            m2 = container.find_all('p')[9].text\n",
    "            if m2 != '-':\n",
    "                m2 = m2.replace('\\xa0','')\n",
    "                m2 = float(\"\".join(itertools.takewhile(str.isdigit, m2)))\n",
    "                areas.append(m2)\n",
    "                \n",
    "            else:\n",
    "                m2 = container.find_all('p')[7].text\n",
    "                if m2 != '-':\n",
    "                    m2 = m2.replace('\\xa0','')\n",
    "                    m2 = float(\"\".join(itertools.takewhile(str.isdigit, m2)))\n",
    "                    areas.append(m2)\n",
    "                else:\n",
    "                    areas.append(m2)\n",
    "\n",
    "            # Creation date\n",
    "            #date = pd.to_datetime(container.find_all('div', class_=\"searchPropertyDate\")[0].text[21:31])\n",
    "            #created.append(date)\n",
    "\n",
    "            # Description\n",
    "            desc = container.find_all('p', class_=\"searchPropertyDescription\")[0].text[7:-6]\n",
    "            descriptions.append(desc)\n",
    "\n",
    "            # url\n",
    "            link = 'https://fotocasa.es/' + container.find_all('a')[0].get('href')[1:-6]\n",
    "            urls.append(link)\n",
    "\n",
    "            # image\n",
    "            img = str(container.find_all('img')[0])\n",
    "            img = img[img.find('data-original_2x=')+18:img.find('id=')-2]\n",
    "            thumbnails.append(img)\n",
    "    else:\n",
    "        break\n",
    "    \n",
    "    #sleep(randint(1,2))\n",
    "    \n",
    "print('You scraped {} pages containing {} properties.'.format(n_pages, len(titles)))\n"
   ]
  },
  {
   "cell_type": "code",
   "execution_count": 37,
   "metadata": {},
   "outputs": [],
   "source": [
    "\n",
    "cols = ['Title', 'Zone', 'Price', 'Size (m²)', 'Status', 'Description', 'URL', 'Image']\n",
    "\n",
    "chipiona = pd.DataFrame({'Title': titles,\n",
    "                           'Price': prices,\n",
    "                           'Size (m²)': areas,\n",
    "                           'Zone': zone,\n",
    "                           #'Date': created,\n",
    "                           'Status': condition,\n",
    "                           'Description': descriptions,\n",
    "                           'URL': urls,\n",
    "                           'Image': thumbnails})[cols]\n",
    "\n",
    "chipiona.to_excel('chipiona_raw.xls')\n",
    "\n",
    "# chipiona = pd.read_excel('chipiona_raw.xls')\n"
   ]
  },
  {
   "cell_type": "code",
   "execution_count": 38,
   "metadata": {},
   "outputs": [
    {
     "data": {
      "text/html": [
       "<div>\n",
       "<style scoped>\n",
       "    .dataframe tbody tr th:only-of-type {\n",
       "        vertical-align: middle;\n",
       "    }\n",
       "\n",
       "    .dataframe tbody tr th {\n",
       "        vertical-align: top;\n",
       "    }\n",
       "\n",
       "    .dataframe thead th {\n",
       "        text-align: right;\n",
       "    }\n",
       "</style>\n",
       "<table border=\"1\" class=\"dataframe\">\n",
       "  <thead>\n",
       "    <tr style=\"text-align: right;\">\n",
       "      <th></th>\n",
       "      <th>Title</th>\n",
       "      <th>Zone</th>\n",
       "      <th>Price</th>\n",
       "      <th>Size (m²)</th>\n",
       "      <th>Status</th>\n",
       "      <th>Description</th>\n",
       "      <th>URL</th>\n",
       "      <th>Image</th>\n",
       "    </tr>\n",
       "  </thead>\n",
       "  <tbody>\n",
       "  </tbody>\n",
       "</table>\n",
       "</div>"
      ],
      "text/plain": [
       "Empty DataFrame\n",
       "Columns: [Title, Zone, Price, Size (m²), Status, Description, URL, Image]\n",
       "Index: []"
      ]
     },
     "execution_count": 38,
     "metadata": {},
     "output_type": "execute_result"
    }
   ],
   "source": [
    "chipiona"
   ]
  },
  {
   "cell_type": "code",
   "execution_count": 39,
   "metadata": {},
   "outputs": [
    {
     "data": {
      "text/plain": [
       "'https://www.fotocasa.es/en/buy/homes/chipiona/all-zones/l?latitude=36.7392&longitude=-6.44079&minPrice=100000&combinedLocationIds=724,1,11,279,496,11016,0,0,0&gridType=3&pn=0'"
      ]
     },
     "execution_count": 39,
     "metadata": {},
     "output_type": "execute_result"
    }
   ],
   "source": [
    "fotocasa_url"
   ]
  },
  {
   "cell_type": "code",
   "execution_count": null,
   "metadata": {},
   "outputs": [],
   "source": []
  }
 ],
 "metadata": {
  "kernelspec": {
   "display_name": "Python 3",
   "language": "python",
   "name": "python3"
  },
  "language_info": {
   "codemirror_mode": {
    "name": "ipython",
    "version": 3
   },
   "file_extension": ".py",
   "mimetype": "text/x-python",
   "name": "python",
   "nbconvert_exporter": "python",
   "pygments_lexer": "ipython3",
   "version": "3.7.1"
  }
 },
 "nbformat": 4,
 "nbformat_minor": 2
}
